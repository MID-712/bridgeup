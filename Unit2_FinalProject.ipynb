{
 "cells": [
  {
   "cell_type": "markdown",
   "metadata": {},
   "source": [
    "# Sea Ice Final Project "
   ]
  },
  {
   "cell_type": "markdown",
   "metadata": {},
   "source": [
    "This code imports libraries"
   ]
  },
  {
   "cell_type": "code",
   "execution_count": 1,
   "metadata": {},
   "outputs": [],
   "source": [
    "import matplotlib.pyplot as plt\n",
    "import numpy as np\n",
    "import csv"
   ]
  },
  {
   "cell_type": "code",
   "execution_count": 2,
   "metadata": {},
   "outputs": [],
   "source": [
    "csvFile = open(\"Percent_SeaIce_Dec1_2007.csv\", 'r') #'r' = readable ; 'w' = writable\n",
    "csvReader = csv.reader(csvFile, delimiter=',') #delimiter = thats what separates data \n",
    "data_list = list(csvReader)"
   ]
  },
  {
   "cell_type": "code",
   "execution_count": 3,
   "metadata": {},
   "outputs": [
    {
     "data": {
      "text/plain": [
       "720"
      ]
     },
     "execution_count": 3,
     "metadata": {},
     "output_type": "execute_result"
    }
   ],
   "source": [
    "len(data_list[0])"
   ]
  },
  {
   "cell_type": "code",
   "execution_count": 4,
   "metadata": {},
   "outputs": [
    {
     "data": {
      "text/plain": [
       "720"
      ]
     },
     "execution_count": 4,
     "metadata": {},
     "output_type": "execute_result"
    }
   ],
   "source": [
    "len(data_list[0])"
   ]
  },
  {
   "cell_type": "code",
   "execution_count": 5,
   "metadata": {},
   "outputs": [],
   "source": [
    "width = 720\n",
    "height = 360"
   ]
  },
  {
   "cell_type": "code",
   "execution_count": 6,
   "metadata": {},
   "outputs": [],
   "source": [
    "grid = np.empty([height, width, 3], dtype=np.uint8) "
   ]
  },
  {
   "cell_type": "code",
   "execution_count": 7,
   "metadata": {},
   "outputs": [],
   "source": [
    "allValues = [] # We will fill in this empty list with all the data values as we go\n",
    "\n",
    "#enumerate lets you keep track of 2 things in for loops \n",
    "\n",
    "for r, row in enumerate(data_list):\n",
    "    for c, value in enumerate(row):\n",
    "        if float(value) < 101:\n",
    "            allValues.append(float(value)) # This is where we fill in the list with all data values\n",
    "        if float(value) <= 0:\n",
    "            grid[r, c] = [2, 6, 79]\n",
    "        elif float(value) <= 10:\n",
    "            grid[r, c] = [7, 17, 163]\n",
    "        elif float(value) <= 20:\n",
    "            grid[r, c] = [80, 182, 242]\n",
    "        elif float(value) <= 30:\n",
    "            grid[r, c] = [116, 199, 247]\n",
    "        elif float(value) <= 40:\n",
    "            grid[r, c] = [149, 210, 245]\n",
    "        elif float(value) <= 50:\n",
    "            grid[r, c] = [176, 221, 247]\n",
    "        elif float(value) <= 60:\n",
    "            grid[r, c] = [200, 232, 250]\n",
    "        elif float(value) <= 70:\n",
    "            grid[r, c] = [188, 238, 247]   \n",
    "        elif float(value) <= 80:\n",
    "            grid[r, c] = [188, 247, 244]\n",
    "        elif float(value) <= 90:\n",
    "            grid[r, c] = [211, 245, 243]\n",
    "        elif float(value) <= 95:\n",
    "            grid[r, c] = [183, 237, 234] \n",
    "        elif float(value) <= 96:\n",
    "            grid[r, c] = [195, 232, 220]\n",
    "        elif float(value) <= 97:\n",
    "            grid[r, c] = [183, 237, 234]\n",
    "        elif float(value) <= 98:\n",
    "            grid[r, c] = [227, 252, 248]     \n",
    "        elif float(value) <= 99:\n",
    "            grid[r, c] = [230, 245, 243]    \n",
    "        elif float(value) <= 100:\n",
    "            grid[r, c] = [225, 250, 252]\n",
    "        "
   ]
  },
  {
   "cell_type": "code",
   "execution_count": 8,
   "metadata": {},
   "outputs": [
    {
     "name": "stdout",
     "output_type": "stream",
     "text": [
      "100.0\n",
      "0.0\n"
     ]
    }
   ],
   "source": [
    "print(max(allValues))\n",
    "print(min(allValues))"
   ]
  },
  {
   "cell_type": "code",
   "execution_count": 9,
   "metadata": {},
   "outputs": [
    {
     "name": "stderr",
     "output_type": "stream",
     "text": [
      "'c' argument looks like a single numeric RGB or RGBA sequence, which should be avoided as value-mapping will have precedence in case its length matches with 'x' & 'y'.  Please use a 2-D array with a single row if you really want to specify the same RGB or RGBA value for all points.\n",
      "'c' argument looks like a single numeric RGB or RGBA sequence, which should be avoided as value-mapping will have precedence in case its length matches with 'x' & 'y'.  Please use a 2-D array with a single row if you really want to specify the same RGB or RGBA value for all points.\n",
      "'c' argument looks like a single numeric RGB or RGBA sequence, which should be avoided as value-mapping will have precedence in case its length matches with 'x' & 'y'.  Please use a 2-D array with a single row if you really want to specify the same RGB or RGBA value for all points.\n",
      "'c' argument looks like a single numeric RGB or RGBA sequence, which should be avoided as value-mapping will have precedence in case its length matches with 'x' & 'y'.  Please use a 2-D array with a single row if you really want to specify the same RGB or RGBA value for all points.\n",
      "'c' argument looks like a single numeric RGB or RGBA sequence, which should be avoided as value-mapping will have precedence in case its length matches with 'x' & 'y'.  Please use a 2-D array with a single row if you really want to specify the same RGB or RGBA value for all points.\n",
      "'c' argument looks like a single numeric RGB or RGBA sequence, which should be avoided as value-mapping will have precedence in case its length matches with 'x' & 'y'.  Please use a 2-D array with a single row if you really want to specify the same RGB or RGBA value for all points.\n",
      "'c' argument looks like a single numeric RGB or RGBA sequence, which should be avoided as value-mapping will have precedence in case its length matches with 'x' & 'y'.  Please use a 2-D array with a single row if you really want to specify the same RGB or RGBA value for all points.\n",
      "'c' argument looks like a single numeric RGB or RGBA sequence, which should be avoided as value-mapping will have precedence in case its length matches with 'x' & 'y'.  Please use a 2-D array with a single row if you really want to specify the same RGB or RGBA value for all points.\n",
      "'c' argument looks like a single numeric RGB or RGBA sequence, which should be avoided as value-mapping will have precedence in case its length matches with 'x' & 'y'.  Please use a 2-D array with a single row if you really want to specify the same RGB or RGBA value for all points.\n",
      "'c' argument looks like a single numeric RGB or RGBA sequence, which should be avoided as value-mapping will have precedence in case its length matches with 'x' & 'y'.  Please use a 2-D array with a single row if you really want to specify the same RGB or RGBA value for all points.\n",
      "'c' argument looks like a single numeric RGB or RGBA sequence, which should be avoided as value-mapping will have precedence in case its length matches with 'x' & 'y'.  Please use a 2-D array with a single row if you really want to specify the same RGB or RGBA value for all points.\n"
     ]
    },
    {
     "data": {
      "image/png": "[encoded data removed]",
      "text/plain": [
       "<Figure size 432x288 with 1 Axes>"
      ]
     },
     "metadata": {
      "needs_background": "light"
     },
     "output_type": "display_data"
    }
   ],
   "source": [
    "plt.scatter([],[],c=(255/255,250/255,252/255),label=\"100%\")\n",
    "plt.scatter([],[],c=(211/255,245/255,243/255),label=\"90%\")\n",
    "plt.scatter([],[],c=(188/255,247/255,244/255),label=\"80%\")\n",
    "plt.scatter([],[],c=(188/255,238/255,247/255),label=\"70%\")\n",
    "plt.scatter([],[],c=(200/255,232/255,250/255),label=\"60%\")\n",
    "plt.scatter([],[],c=(176/255,221/255,247/255),label=\"50%\")\n",
    "plt.scatter([],[],c=(149/255,210/255,245/255),label=\"40%\")\n",
    "plt.scatter([],[],c=(116/255,199/255,247/255),label=\"30%\")\n",
    "plt.scatter([],[],c=(80/255,182/255,242/255),label=\"20%\")\n",
    "plt.scatter([],[],c=(7/255,17/255,163/255),label=\"10%\")\n",
    "plt.scatter([],[],c=(2/255,6/255,79/255),label=\"0%\")\n",
    "plt.legend(bbox_to_anchor =[1.25, 1.0])\n",
    "plt.title(\"Global Sea Ice % 2007\")\n",
    "plt.imshow(grid)\n",
    "plt.axis('off')\n",
    "plt.savefig(\"Sea Ice 2007.png\",dpi = 1000)\n",
    "plt.show()"
   ]
  },
  {
   "cell_type": "code",
   "execution_count": 10,
   "metadata": {},
   "outputs": [],
   "source": [
    "csvFile = open(\"Percent_SeaIce_Dec1_2018.csv\", 'r') #'r' = readable ; 'w' = writable\n",
    "csvReader = csv.reader(csvFile, delimiter=',') #delimiter = thats what separates data \n",
    "data_list2 = list(csvReader)"
   ]
  },
  {
   "cell_type": "code",
   "execution_count": 11,
   "metadata": {},
   "outputs": [
    {
     "data": {
      "text/plain": [
       "720"
      ]
     },
     "execution_count": 11,
     "metadata": {},
     "output_type": "execute_result"
    }
   ],
   "source": [
    "len(data_list2[0])"
   ]
  },
  {
   "cell_type": "code",
   "execution_count": 12,
   "metadata": {},
   "outputs": [
    {
     "data": {
      "text/plain": [
       "360"
      ]
     },
     "execution_count": 12,
     "metadata": {},
     "output_type": "execute_result"
    }
   ],
   "source": [
    "len(data_list2)"
   ]
  },
  {
   "cell_type": "code",
   "execution_count": 13,
   "metadata": {},
   "outputs": [],
   "source": [
    "width = 720\n",
    "height = 360"
   ]
  },
  {
   "cell_type": "code",
   "execution_count": 14,
   "metadata": {},
   "outputs": [],
   "source": [
    "grid = np.empty([height, width, 3], dtype=np.uint8)"
   ]
  },
  {
   "cell_type": "code",
   "execution_count": 15,
   "metadata": {},
   "outputs": [],
   "source": [
    "allValues = [] # We will fill in this empty list with all the data values as we go\n",
    "\n",
    "#enumerate lets you keep track of 2 things in for loops \n",
    "\n",
    "for r, row in enumerate(data_list2):\n",
    "    for c, value in enumerate(row):\n",
    "        if float(value) < 101:\n",
    "            allValues.append(float(value)) # This is where we fill in the list with all data values\n",
    "        if float(value) <= 0:\n",
    "            grid[r, c] = [2, 6, 79]\n",
    "        elif float(value) <= 10:\n",
    "            grid[r, c] = [7, 17, 163]\n",
    "        elif float(value) <= 20:\n",
    "            grid[r, c] = [80, 182, 242]\n",
    "        elif float(value) <= 30:\n",
    "            grid[r, c] = [116, 199, 247]\n",
    "        elif float(value) <= 40:\n",
    "            grid[r, c] = [149, 210, 245]\n",
    "        elif float(value) <= 50:\n",
    "            grid[r, c] = [176, 221, 247]\n",
    "        elif float(value) <= 60:\n",
    "            grid[r, c] = [200, 232, 250]\n",
    "        elif float(value) <= 70:\n",
    "            grid[r, c] = [188, 238, 247]   \n",
    "        elif float(value) <= 80:\n",
    "            grid[r, c] = [188, 247, 244]\n",
    "        elif float(value) <= 90:\n",
    "            grid[r, c] = [211, 245, 243]\n",
    "        elif float(value) <= 95:\n",
    "            grid[r, c] = [183, 237, 234] \n",
    "        elif float(value) <= 96:\n",
    "            grid[r, c] = [195, 232, 220]\n",
    "        elif float(value) <= 97:\n",
    "            grid[r, c] = [183, 237, 234]\n",
    "        elif float(value) <= 98:\n",
    "            grid[r, c] = [227, 252, 248]     \n",
    "        elif float(value) <= 99:\n",
    "            grid[r, c] = [230, 245, 243]    \n",
    "        elif float(value) <= 100:\n",
    "            grid[r, c] = [225, 250, 252]\n",
    "        "
   ]
  },
  {
   "cell_type": "code",
   "execution_count": 16,
   "metadata": {},
   "outputs": [
    {
     "name": "stdout",
     "output_type": "stream",
     "text": [
      "100.0\n",
      "0.0\n"
     ]
    }
   ],
   "source": [
    "print(max(allValues))\n",
    "print(min(allValues))"
   ]
  },
  {
   "cell_type": "code",
   "execution_count": 17,
   "metadata": {},
   "outputs": [
    {
     "name": "stderr",
     "output_type": "stream",
     "text": [
      "'c' argument looks like a single numeric RGB or RGBA sequence, which should be avoided as value-mapping will have precedence in case its length matches with 'x' & 'y'.  Please use a 2-D array with a single row if you really want to specify the same RGB or RGBA value for all points.\n",
      "'c' argument looks like a single numeric RGB or RGBA sequence, which should be avoided as value-mapping will have precedence in case its length matches with 'x' & 'y'.  Please use a 2-D array with a single row if you really want to specify the same RGB or RGBA value for all points.\n",
      "'c' argument looks like a single numeric RGB or RGBA sequence, which should be avoided as value-mapping will have precedence in case its length matches with 'x' & 'y'.  Please use a 2-D array with a single row if you really want to specify the same RGB or RGBA value for all points.\n",
      "'c' argument looks like a single numeric RGB or RGBA sequence, which should be avoided as value-mapping will have precedence in case its length matches with 'x' & 'y'.  Please use a 2-D array with a single row if you really want to specify the same RGB or RGBA value for all points.\n",
      "'c' argument looks like a single numeric RGB or RGBA sequence, which should be avoided as value-mapping will have precedence in case its length matches with 'x' & 'y'.  Please use a 2-D array with a single row if you really want to specify the same RGB or RGBA value for all points.\n",
      "'c' argument looks like a single numeric RGB or RGBA sequence, which should be avoided as value-mapping will have precedence in case its length matches with 'x' & 'y'.  Please use a 2-D array with a single row if you really want to specify the same RGB or RGBA value for all points.\n",
      "'c' argument looks like a single numeric RGB or RGBA sequence, which should be avoided as value-mapping will have precedence in case its length matches with 'x' & 'y'.  Please use a 2-D array with a single row if you really want to specify the same RGB or RGBA value for all points.\n",
      "'c' argument looks like a single numeric RGB or RGBA sequence, which should be avoided as value-mapping will have precedence in case its length matches with 'x' & 'y'.  Please use a 2-D array with a single row if you really want to specify the same RGB or RGBA value for all points.\n",
      "'c' argument looks like a single numeric RGB or RGBA sequence, which should be avoided as value-mapping will have precedence in case its length matches with 'x' & 'y'.  Please use a 2-D array with a single row if you really want to specify the same RGB or RGBA value for all points.\n",
      "'c' argument looks like a single numeric RGB or RGBA sequence, which should be avoided as value-mapping will have precedence in case its length matches with 'x' & 'y'.  Please use a 2-D array with a single row if you really want to specify the same RGB or RGBA value for all points.\n",
      "'c' argument looks like a single numeric RGB or RGBA sequence, which should be avoided as value-mapping will have precedence in case its length matches with 'x' & 'y'.  Please use a 2-D array with a single row if you really want to specify the same RGB or RGBA value for all points.\n"
     ]
    },
    {
     "data": {
      "image/png": "[encoded data removed]",
      "text/plain": [
       "<Figure size 432x288 with 1 Axes>"
      ]
     },
     "metadata": {
      "needs_background": "light"
     },
     "output_type": "display_data"
    }
   ],
   "source": [
    "plt.scatter([],[],c=(255/255,250/255,252/255),label=\"100%\")\n",
    "plt.scatter([],[],c=(211/255,245/255,243/255),label=\"90%\")\n",
    "plt.scatter([],[],c=(188/255,247/255,244/255),label=\"80%\")\n",
    "plt.scatter([],[],c=(188/255,238/255,247/255),label=\"70%\")\n",
    "plt.scatter([],[],c=(200/255,232/255,250/255),label=\"60%\")\n",
    "plt.scatter([],[],c=(176/255,221/255,247/255),label=\"50%\")\n",
    "plt.scatter([],[],c=(149/255,210/255,245/255),label=\"40%\")\n",
    "plt.scatter([],[],c=(116/255,199/255,247/255),label=\"30%\")\n",
    "plt.scatter([],[],c=(80/255,182/255,242/255),label=\"20%\")\n",
    "plt.scatter([],[],c=(7/255,17/255,163/255),label=\"10%\")\n",
    "plt.scatter([],[],c=(2/255,6/255,79/255),label=\"0%\")\n",
    "plt.legend(bbox_to_anchor =[1.25, 1.0])\n",
    "plt.title(\"Global Sea Ice % 2018\")\n",
    "plt.imshow(grid)\n",
    "plt.axis('off')\n",
    "plt.savefig(\"Sea Ice 2018.png\",dpi = 1000)\n",
    "plt.show()"
   ]
  },
  {
   "cell_type": "code",
   "execution_count": 18,
   "metadata": {},
   "outputs": [
    {
     "name": "stderr",
     "output_type": "stream",
     "text": [
      "'c' argument looks like a single numeric RGB or RGBA sequence, which should be avoided as value-mapping will have precedence in case its length matches with 'x' & 'y'.  Please use a 2-D array with a single row if you really want to specify the same RGB or RGBA value for all points.\n",
      "'c' argument looks like a single numeric RGB or RGBA sequence, which should be avoided as value-mapping will have precedence in case its length matches with 'x' & 'y'.  Please use a 2-D array with a single row if you really want to specify the same RGB or RGBA value for all points.\n",
      "'c' argument looks like a single numeric RGB or RGBA sequence, which should be avoided as value-mapping will have precedence in case its length matches with 'x' & 'y'.  Please use a 2-D array with a single row if you really want to specify the same RGB or RGBA value for all points.\n",
      "'c' argument looks like a single numeric RGB or RGBA sequence, which should be avoided as value-mapping will have precedence in case its length matches with 'x' & 'y'.  Please use a 2-D array with a single row if you really want to specify the same RGB or RGBA value for all points.\n",
      "'c' argument looks like a single numeric RGB or RGBA sequence, which should be avoided as value-mapping will have precedence in case its length matches with 'x' & 'y'.  Please use a 2-D array with a single row if you really want to specify the same RGB or RGBA value for all points.\n",
      "'c' argument looks like a single numeric RGB or RGBA sequence, which should be avoided as value-mapping will have precedence in case its length matches with 'x' & 'y'.  Please use a 2-D array with a single row if you really want to specify the same RGB or RGBA value for all points.\n",
      "'c' argument looks like a single numeric RGB or RGBA sequence, which should be avoided as value-mapping will have precedence in case its length matches with 'x' & 'y'.  Please use a 2-D array with a single row if you really want to specify the same RGB or RGBA value for all points.\n",
      "'c' argument looks like a single numeric RGB or RGBA sequence, which should be avoided as value-mapping will have precedence in case its length matches with 'x' & 'y'.  Please use a 2-D array with a single row if you really want to specify the same RGB or RGBA value for all points.\n",
      "'c' argument looks like a single numeric RGB or RGBA sequence, which should be avoided as value-mapping will have precedence in case its length matches with 'x' & 'y'.  Please use a 2-D array with a single row if you really want to specify the same RGB or RGBA value for all points.\n",
      "'c' argument looks like a single numeric RGB or RGBA sequence, which should be avoided as value-mapping will have precedence in case its length matches with 'x' & 'y'.  Please use a 2-D array with a single row if you really want to specify the same RGB or RGBA value for all points.\n",
      "'c' argument looks like a single numeric RGB or RGBA sequence, which should be avoided as value-mapping will have precedence in case its length matches with 'x' & 'y'.  Please use a 2-D array with a single row if you really want to specify the same RGB or RGBA value for all points.\n",
      "'c' argument looks like a single numeric RGB or RGBA sequence, which should be avoided as value-mapping will have precedence in case its length matches with 'x' & 'y'.  Please use a 2-D array with a single row if you really want to specify the same RGB or RGBA value for all points.\n",
      "'c' argument looks like a single numeric RGB or RGBA sequence, which should be avoided as value-mapping will have precedence in case its length matches with 'x' & 'y'.  Please use a 2-D array with a single row if you really want to specify the same RGB or RGBA value for all points.\n",
      "'c' argument looks like a single numeric RGB or RGBA sequence, which should be avoided as value-mapping will have precedence in case its length matches with 'x' & 'y'.  Please use a 2-D array with a single row if you really want to specify the same RGB or RGBA value for all points.\n",
      "'c' argument looks like a single numeric RGB or RGBA sequence, which should be avoided as value-mapping will have precedence in case its length matches with 'x' & 'y'.  Please use a 2-D array with a single row if you really want to specify the same RGB or RGBA value for all points.\n"
     ]
    },
    {
     "data": {
      "image/png": "[encoded data removed]",
      "text/plain": [
       "<Figure size 432x288 with 1 Axes>"
      ]
     },
     "metadata": {
      "needs_background": "light"
     },
     "output_type": "display_data"
    }
   ],
   "source": [
    "#plt.scatter([],[],c=(255/255,250/255,252/255),label=\"100%\")\n",
    "plt.scatter([],[],c=(230/255,245/255,243/255),label=\"99%\")\n",
    "plt.scatter([],[],c=(227/255,252/255,248/255),label=\"98%\")\n",
    "plt.scatter([],[],c=(187/255,252/255,249/255),label=\"97%\")\n",
    "plt.scatter([],[],c=(195/255,232/255,220/255),label=\"96%\")\n",
    "plt.scatter([],[],c=(183/255,237/255,234/255),label=\"95%\")\n",
    "plt.scatter([],[],c=(211/255,245/255,243/255),label=\"90%\")\n",
    "plt.scatter([],[],c=(188/255,247/255,244/255),label=\"80%\")\n",
    "plt.scatter([],[],c=(188/255,238/255,247/255),label=\"70%\")\n",
    "plt.scatter([],[],c=(200/255,232/255,250/255),label=\"60%\")\n",
    "plt.scatter([],[],c=(176/255,221/255,247/255),label=\"50%\")\n",
    "plt.scatter([],[],c=(149/255,210/255,245/255),label=\"40%\")\n",
    "plt.scatter([],[],c=(116/255,199/255,247/255),label=\"30%\")\n",
    "plt.scatter([],[],c=(80/255,182/255,242/255),label=\"20%\")\n",
    "plt.scatter([],[],c=(7/255,17/255,163/255),label=\"10%\")\n",
    "plt.scatter([],[],c=(2/255,6/255,79/255),label=\"0%\")\n",
    "plt.legend(bbox_to_anchor =[1.25, 1.0])\n",
    "plt.title(\"Global Sea Ice % 2018\")\n",
    "plt.imshow(grid)\n",
    "plt.axis('off')\n",
    "plt.savefig(\"Sea Ice 2018.png\",dpi = 1000)\n",
    "plt.show()"
   ]
  },
  {
   "cell_type": "code",
   "execution_count": null,
   "metadata": {},
   "outputs": [],
   "source": []
  }
 ],
 "metadata": {
  "kernelspec": {
   "display_name": "Python 3",
   "language": "python",
   "name": "python3"
  },
  "language_info": {
   "codemirror_mode": {
    "name": "ipython",
    "version": 3
   },
   "file_extension": ".py",
   "mimetype": "text/x-python",
   "name": "python",
   "nbconvert_exporter": "python",
   "pygments_lexer": "ipython3",
   "version": "3.7.3"
  }
 },
 "nbformat": 4,
 "nbformat_minor": 2
}
