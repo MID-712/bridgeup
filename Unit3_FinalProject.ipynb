{
 "cells": [
  {
   "cell_type": "code",
   "execution_count": 1,
   "metadata": {},
   "outputs": [],
   "source": [
    "import matplotlib.pyplot as plt"
   ]
  },
  {
   "cell_type": "code",
   "execution_count": 2,
   "metadata": {},
   "outputs": [],
   "source": [
    "#open the files\n",
    "\n",
    "alligator_dna = open(\"American_Alligator_DNA.txt\").read()\n",
    "turtle_dna = open(\"Leatherback_Sea_Turtle_DNA.txt\").read()\n",
    "chicken_dna = open(\"Red_Junglefowl_DNA.txt\").read()"
   ]
  },
  {
   "cell_type": "markdown",
   "metadata": {},
   "source": [
    "### turtle vs. alligator "
   ]
  },
  {
   "cell_type": "code",
   "execution_count": 3,
   "metadata": {},
   "outputs": [
    {
     "name": "stdout",
     "output_type": "stream",
     "text": [
      "326\n"
     ]
    }
   ],
   "source": [
    "Turtle_V_Alligator = 0\n",
    "for c, i in enumerate(alligator_dna):\n",
    "    if c== len(turtle_dna):\n",
    "        break\n",
    "    if i!= turtle_dna[c]:\n",
    "        Turtle_V_Alligator += 1\n",
    "print(Turtle_V_Alligator)"
   ]
  },
  {
   "cell_type": "code",
   "execution_count": 4,
   "metadata": {},
   "outputs": [
    {
     "name": "stdout",
     "output_type": "stream",
     "text": [
      "29.159212880143116\n"
     ]
    }
   ],
   "source": [
    "TAdiff = (Turtle_V_Alligator/ len(turtle_dna)*100)\n",
    "print(TAdiff)"
   ]
  },
  {
   "cell_type": "markdown",
   "metadata": {},
   "source": [
    "### chicken vs. alligator "
   ]
  },
  {
   "cell_type": "code",
   "execution_count": 5,
   "metadata": {
    "scrolled": true
   },
   "outputs": [
    {
     "name": "stdout",
     "output_type": "stream",
     "text": [
      "355\n"
     ]
    }
   ],
   "source": [
    "Chicken_V_Alligator = 0\n",
    "for c, i in enumerate(alligator_dna):\n",
    "    if c== len(chicken_dna):\n",
    "        break\n",
    "    if i!= chicken_dna[c]:\n",
    "        Chicken_V_Alligator += 1\n",
    "print(Chicken_V_Alligator)"
   ]
  },
  {
   "cell_type": "code",
   "execution_count": 6,
   "metadata": {},
   "outputs": [
    {
     "name": "stdout",
     "output_type": "stream",
     "text": [
      "31.49955634427684\n"
     ]
    }
   ],
   "source": [
    "CAdiff = (Chicken_V_Alligator/len(chicken_dna)*100)\n",
    "print(CAdiff)"
   ]
  },
  {
   "cell_type": "markdown",
   "metadata": {},
   "source": [
    "### turtle vs. chicken "
   ]
  },
  {
   "cell_type": "code",
   "execution_count": 7,
   "metadata": {},
   "outputs": [
    {
     "name": "stdout",
     "output_type": "stream",
     "text": [
      "270\n"
     ]
    }
   ],
   "source": [
    "Turtle_V_Chicken = 0\n",
    "for c, i in enumerate(chicken_dna):\n",
    "    if c== len(turtle_dna):\n",
    "        break\n",
    "    if i!= turtle_dna[c]:\n",
    "        Turtle_V_Chicken += 1\n",
    "print(Turtle_V_Chicken)"
   ]
  },
  {
   "cell_type": "code",
   "execution_count": 8,
   "metadata": {},
   "outputs": [
    {
     "name": "stdout",
     "output_type": "stream",
     "text": [
      "24.15026833631485\n"
     ]
    }
   ],
   "source": [
    "TCdiff = (Turtle_V_Chicken/ len(turtle_dna)*100)\n",
    "print(Turtle_V_Chicken/ len(turtle_dna)*100)"
   ]
  },
  {
   "cell_type": "code",
   "execution_count": 9,
   "metadata": {},
   "outputs": [
    {
     "name": "stdout",
     "output_type": "stream",
     "text": [
      "1127\n",
      "1118\n",
      "1211\n"
     ]
    }
   ],
   "source": [
    "print(len(chicken_dna))\n",
    "print(len(turtle_dna))\n",
    "print(len(alligator_dna))"
   ]
  },
  {
   "cell_type": "code",
   "execution_count": 10,
   "metadata": {},
   "outputs": [
    {
     "name": "stdout",
     "output_type": "stream",
     "text": [
      "29.159212880143116\n",
      "31.753130590339897\n",
      "24.15026833631485\n"
     ]
    }
   ],
   "source": [
    "def Compare(animal1, animal2):\n",
    "    differences = 0\n",
    "    for c, i in enumerate(animal1):\n",
    "        if c== len(animal2):\n",
    "            break\n",
    "        if i!= animal2[c]:\n",
    "            differences += 1\n",
    "    #return(differences)\n",
    "    return differences/ len(turtle_dna)*100\n",
    "    \n",
    "print(Compare(alligator_dna, turtle_dna))\n",
    "print(Compare(alligator_dna, chicken_dna))\n",
    "print(Compare(turtle_dna, chicken_dna))"
   ]
  },
  {
   "cell_type": "markdown",
   "metadata": {},
   "source": [
    "# Make A Graph"
   ]
  },
  {
   "cell_type": "code",
   "execution_count": 14,
   "metadata": {},
   "outputs": [
    {
     "name": "stderr",
     "output_type": "stream",
     "text": [
      "'c' argument looks like a single numeric RGB or RGBA sequence, which should be avoided as value-mapping will have precedence in case its length matches with 'x' & 'y'.  Please use a 2-D array with a single row if you really want to specify the same RGB or RGBA value for all points.\n",
      "'c' argument looks like a single numeric RGB or RGBA sequence, which should be avoided as value-mapping will have precedence in case its length matches with 'x' & 'y'.  Please use a 2-D array with a single row if you really want to specify the same RGB or RGBA value for all points.\n",
      "'c' argument looks like a single numeric RGB or RGBA sequence, which should be avoided as value-mapping will have precedence in case its length matches with 'x' & 'y'.  Please use a 2-D array with a single row if you really want to specify the same RGB or RGBA value for all points.\n"
     ]
    },
    {
     "data": {
      "image/png": "[encoded data removed]",
      "text/plain": [
       "<Figure size 432x288 with 1 Axes>"
      ]
     },
     "metadata": {
      "needs_background": "light"
     },
     "output_type": "display_data"
    }
   ],
   "source": [
    "plt.bar([1,2,3], [TCdiff, TAdiff, CAdiff], color = [\"violet\", \"aquamarine\", \"lightcoral\"])\n",
    "plt.xticks([1,2,3], [\"Turtle vs Chicken\", \"Turtle vs Alligator\", \"Chicken vs Alligator\"])\n",
    "plt.xlabel(\"Animals\")\n",
    "plt.ylabel(\"Percent of Differences\")\n",
    "plt.title(\"DNA Difference Percentages\")\n",
    "plt.scatter([],[],c=(238/255,129/255,130/255),label=\"31.5%\", edgecolor=\"black\")\n",
    "plt.scatter([],[],c=(132/255,254/255,213/255),label=\"29.2%\", edgecolor=\"black\")\n",
    "plt.scatter([],[],c=(236/255,134/255,236/255),label=\"24.2%\", edgecolor=\"slategr\")\n",
    "plt.legend(bbox_to_anchor =[1.25, 1.0])\n",
    "plt.show()"
   ]
  },
  {
   "cell_type": "code",
   "execution_count": null,
   "metadata": {},
   "outputs": [],
   "source": []
  }
 ],
 "metadata": {
  "kernelspec": {
   "display_name": "Python 3",
   "language": "python",
   "name": "python3"
  },
  "language_info": {
   "codemirror_mode": {
    "name": "ipython",
    "version": 3
   },
   "file_extension": ".py",
   "mimetype": "text/x-python",
   "name": "python",
   "nbconvert_exporter": "python",
   "pygments_lexer": "ipython3",
   "version": "3.7.3"
  }
 },
 "nbformat": 4,
 "nbformat_minor": 2
}
